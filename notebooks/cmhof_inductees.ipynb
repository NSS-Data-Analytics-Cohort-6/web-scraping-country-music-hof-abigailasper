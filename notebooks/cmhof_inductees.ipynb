{
 "cells": [
  {
   "cell_type": "code",
   "execution_count": 1,
   "id": "c56f1b4e",
   "metadata": {},
   "outputs": [],
   "source": [
    "import requests\n",
    "from bs4 import BeautifulSoup as BS\n",
    "import re\n",
    "import pandas as pd"
   ]
  },
  {
   "cell_type": "code",
   "execution_count": 2,
   "id": "6b5165ed",
   "metadata": {},
   "outputs": [],
   "source": [
    "URL = 'https://countrymusichalloffame.org/hall-of-fame/members/'\n",
    "\n",
    "response = requests.get(URL)"
   ]
  },
  {
   "cell_type": "code",
   "execution_count": 3,
   "id": "33fd6c19",
   "metadata": {},
   "outputs": [
    {
     "data": {
      "text/plain": [
       "200"
      ]
     },
     "execution_count": 3,
     "metadata": {},
     "output_type": "execute_result"
    }
   ],
   "source": [
    "response.status_code"
   ]
  },
  {
   "cell_type": "code",
   "execution_count": 4,
   "id": "33487c52",
   "metadata": {},
   "outputs": [
    {
     "data": {
      "text/plain": [
       "bs4.BeautifulSoup"
      ]
     },
     "execution_count": 4,
     "metadata": {},
     "output_type": "execute_result"
    }
   ],
   "source": [
    "soup = BS(response.text)\n",
    "type(soup)"
   ]
  },
  {
   "cell_type": "markdown",
   "id": "d22e03bb",
   "metadata": {},
   "source": [
    "## 1. Start by using either the inspector or by viewing the page source. Can you identify a tag that might be helpful for finding the names of all inductees? Make use of this to create a list containing just the names of each inductee."
   ]
  },
  {
   "cell_type": "code",
   "execution_count": 5,
   "id": "f9ea4b04",
   "metadata": {},
   "outputs": [],
   "source": [
    "# https://stackoverflow.com/questions/5041008/how-to-find-elements-by-class\n",
    "cards = soup.find_all(\"div\", {\"class\": \"vertical-card_content\"})"
   ]
  },
  {
   "cell_type": "code",
   "execution_count": 6,
   "id": "d0ae916b",
   "metadata": {},
   "outputs": [
    {
     "name": "stdout",
     "output_type": "stream",
     "text": [
      "[<div class=\"vertical-card_content\">\n",
      "<div class=\"vertical-card_content--title\">\n",
      "<h3>Roy Acuff</h3>\n",
      "</div>\n",
      "<div class=\"vertical-card_content--copy\">\n",
      "<p>\n",
      "                    Inducted 1962                  </p>\n",
      "</div>\n",
      "<div class=\"fbyf-btn-wrapper inline-text\">\n",
      "<a href=\"https://countrymusichalloffame.org/artist/roy-acuff/\">\n",
      "<span>Learn More</span>\n",
      "<svg height=\"15px\" version=\"1.1\" viewbox=\"0 0 15 15\" width=\"15px\" xmlns=\"http://www.w3.org/2000/svg\" xmlns:xlink=\"http://www.w3.org/1999/xlink\">\n",
      "<g fill=\"none\" fill-rule=\"evenodd\" id=\"Symbols\" stroke=\"none\" stroke-width=\"1\">\n",
      "<g id=\"Icon/CMHOF/arrow-right\">\n",
      "<rect height=\"15\" id=\"Rectangle\" width=\"15\" x=\"0\" y=\"0\"></rect>\n",
      "<polygon fill=\"#F0B23A\" id=\"Fill-1\" points=\"8.59732882 13.03125 8.59732882 9.79762459 2 9.79762459 2 4.25168919 8.59732882 4.25168919 8.59732882 1 13.96875 7.01562616\"></polygon>\n",
      "</g>\n",
      "</g>\n",
      "</svg>\n",
      "</a>\n",
      "</div>\n",
      "</div>, <div class=\"vertical-card_content\">\n",
      "<div class=\"vertical-card_content--title\">\n",
      "<h3>Alabama</h3>\n",
      "</div>\n",
      "<div class=\"vertical-card_content--copy\">\n",
      "<p>\n",
      "                    Inducted 2005                  </p>\n",
      "</div>\n",
      "<div class=\"fbyf-btn-wrapper inline-text\">\n",
      "<a href=\"https://countrymusichalloffame.org/artist/alabama/\">\n",
      "<span>Learn More</span>\n",
      "<svg height=\"15px\" version=\"1.1\" viewbox=\"0 0 15 15\" width=\"15px\" xmlns=\"http://www.w3.org/2000/svg\" xmlns:xlink=\"http://www.w3.org/1999/xlink\">\n",
      "<g fill=\"none\" fill-rule=\"evenodd\" id=\"Symbols\" stroke=\"none\" stroke-width=\"1\">\n",
      "<g id=\"Icon/CMHOF/arrow-right\">\n",
      "<rect height=\"15\" id=\"Rectangle\" width=\"15\" x=\"0\" y=\"0\"></rect>\n",
      "<polygon fill=\"#F0B23A\" id=\"Fill-1\" points=\"8.59732882 13.03125 8.59732882 9.79762459 2 9.79762459 2 4.25168919 8.59732882 4.25168919 8.59732882 1 13.96875 7.01562616\"></polygon>\n",
      "</g>\n",
      "</g>\n",
      "</svg>\n",
      "</a>\n",
      "</div>\n",
      "</div>, <div class=\"vertical-card_content\">\n",
      "<div class=\"vertical-card_content--title\">\n",
      "<h3>Bill Anderson</h3>\n",
      "</div>\n",
      "<div class=\"vertical-card_content--copy\">\n",
      "<p>\n",
      "                    Inducted 2001                  </p>\n",
      "</div>\n",
      "<div class=\"fbyf-btn-wrapper inline-text\">\n",
      "<a href=\"https://countrymusichalloffame.org/artist/bill-anderson/\">\n",
      "<span>Learn More</span>\n",
      "<svg height=\"15px\" version=\"1.1\" viewbox=\"0 0 15 15\" width=\"15px\" xmlns=\"http://www.w3.org/2000/svg\" xmlns:xlink=\"http://www.w3.org/1999/xlink\">\n",
      "<g fill=\"none\" fill-rule=\"evenodd\" id=\"Symbols\" stroke=\"none\" stroke-width=\"1\">\n",
      "<g id=\"Icon/CMHOF/arrow-right\">\n",
      "<rect height=\"15\" id=\"Rectangle\" width=\"15\" x=\"0\" y=\"0\"></rect>\n",
      "<polygon fill=\"#F0B23A\" id=\"Fill-1\" points=\"8.59732882 13.03125 8.59732882 9.79762459 2 9.79762459 2 4.25168919 8.59732882 4.25168919 8.59732882 1 13.96875 7.01562616\"></polygon>\n",
      "</g>\n",
      "</g>\n",
      "</svg>\n",
      "</a>\n",
      "</div>\n",
      "</div>, <div class=\"vertical-card_content\">\n",
      "<div class=\"vertical-card_content--title\">\n",
      "<h3>Eddy Arnold</h3>\n",
      "</div>\n",
      "<div class=\"vertical-card_content--copy\">\n",
      "<p>\n",
      "                    Inducted 1966                  </p>\n",
      "</div>\n",
      "<div class=\"fbyf-btn-wrapper inline-text\">\n",
      "<a href=\"https://countrymusichalloffame.org/artist/eddy-arnold/\">\n",
      "<span>Learn More</span>\n",
      "<svg height=\"15px\" version=\"1.1\" viewbox=\"0 0 15 15\" width=\"15px\" xmlns=\"http://www.w3.org/2000/svg\" xmlns:xlink=\"http://www.w3.org/1999/xlink\">\n",
      "<g fill=\"none\" fill-rule=\"evenodd\" id=\"Symbols\" stroke=\"none\" stroke-width=\"1\">\n",
      "<g id=\"Icon/CMHOF/arrow-right\">\n",
      "<rect height=\"15\" id=\"Rectangle\" width=\"15\" x=\"0\" y=\"0\"></rect>\n",
      "<polygon fill=\"#F0B23A\" id=\"Fill-1\" points=\"8.59732882 13.03125 8.59732882 9.79762459 2 9.79762459 2 4.25168919 8.59732882 4.25168919 8.59732882 1 13.96875 7.01562616\"></polygon>\n",
      "</g>\n",
      "</g>\n",
      "</svg>\n",
      "</a>\n",
      "</div>\n",
      "</div>, <div class=\"vertical-card_content\">\n",
      "<div class=\"vertical-card_content--title\">\n",
      "<h3>Chet Atkins</h3>\n",
      "</div>\n",
      "<div class=\"vertical-card_content--copy\">\n",
      "<p>\n",
      "                    Inducted 1973                  </p>\n",
      "</div>\n",
      "<div class=\"fbyf-btn-wrapper inline-text\">\n",
      "<a href=\"https://countrymusichalloffame.org/artist/chet-atkins/\">\n",
      "<span>Learn More</span>\n",
      "<svg height=\"15px\" version=\"1.1\" viewbox=\"0 0 15 15\" width=\"15px\" xmlns=\"http://www.w3.org/2000/svg\" xmlns:xlink=\"http://www.w3.org/1999/xlink\">\n",
      "<g fill=\"none\" fill-rule=\"evenodd\" id=\"Symbols\" stroke=\"none\" stroke-width=\"1\">\n",
      "<g id=\"Icon/CMHOF/arrow-right\">\n",
      "<rect height=\"15\" id=\"Rectangle\" width=\"15\" x=\"0\" y=\"0\"></rect>\n",
      "<polygon fill=\"#F0B23A\" id=\"Fill-1\" points=\"8.59732882 13.03125 8.59732882 9.79762459 2 9.79762459 2 4.25168919 8.59732882 4.25168919 8.59732882 1 13.96875 7.01562616\"></polygon>\n",
      "</g>\n",
      "</g>\n",
      "</svg>\n",
      "</a>\n",
      "</div>\n",
      "</div>, <div class=\"vertical-card_content\">\n",
      "<div class=\"vertical-card_content--title\">\n",
      "<h3>Gene Autry</h3>\n",
      "</div>\n",
      "<div class=\"vertical-card_content--copy\">\n",
      "<p>\n",
      "                    Inducted 1969                  </p>\n",
      "</div>\n",
      "<div class=\"fbyf-btn-wrapper inline-text\">\n",
      "<a href=\"https://countrymusichalloffame.org/artist/gene-autry/\">\n",
      "<span>Learn More</span>\n",
      "<svg height=\"15px\" version=\"1.1\" viewbox=\"0 0 15 15\" width=\"15px\" xmlns=\"http://www.w3.org/2000/svg\" xmlns:xlink=\"http://www.w3.org/1999/xlink\">\n",
      "<g fill=\"none\" fill-rule=\"evenodd\" id=\"Symbols\" stroke=\"none\" stroke-width=\"1\">\n",
      "<g id=\"Icon/CMHOF/arrow-right\">\n",
      "<rect height=\"15\" id=\"Rectangle\" width=\"15\" x=\"0\" y=\"0\"></rect>\n",
      "<polygon fill=\"#F0B23A\" id=\"Fill-1\" points=\"8.59732882 13.03125 8.59732882 9.79762459 2 9.79762459 2 4.25168919 8.59732882 4.25168919 8.59732882 1 13.96875 7.01562616\"></polygon>\n",
      "</g>\n",
      "</g>\n",
      "</svg>\n",
      "</a>\n",
      "</div>\n",
      "</div>, <div class=\"vertical-card_content\">\n",
      "<div class=\"vertical-card_content--title\">\n",
      "<h3>DeFord Bailey</h3>\n",
      "</div>\n",
      "<div class=\"vertical-card_content--copy\">\n",
      "<p>\n",
      "                    Inducted 2005                  </p>\n",
      "</div>\n",
      "<div class=\"fbyf-btn-wrapper inline-text\">\n",
      "<a href=\"https://countrymusichalloffame.org/artist/deford-bailey/\">\n",
      "<span>Learn More</span>\n",
      "<svg height=\"15px\" version=\"1.1\" viewbox=\"0 0 15 15\" width=\"15px\" xmlns=\"http://www.w3.org/2000/svg\" xmlns:xlink=\"http://www.w3.org/1999/xlink\">\n",
      "<g fill=\"none\" fill-rule=\"evenodd\" id=\"Symbols\" stroke=\"none\" stroke-width=\"1\">\n",
      "<g id=\"Icon/CMHOF/arrow-right\">\n",
      "<rect height=\"15\" id=\"Rectangle\" width=\"15\" x=\"0\" y=\"0\"></rect>\n",
      "<polygon fill=\"#F0B23A\" id=\"Fill-1\" points=\"8.59732882 13.03125 8.59732882 9.79762459 2 9.79762459 2 4.25168919 8.59732882 4.25168919 8.59732882 1 13.96875 7.01562616\"></polygon>\n",
      "</g>\n",
      "</g>\n",
      "</svg>\n",
      "</a>\n",
      "</div>\n",
      "</div>, <div class=\"vertical-card_content\">\n",
      "<div class=\"vertical-card_content--title\">\n",
      "<h3>Bobby Bare</h3>\n",
      "</div>\n",
      "<div class=\"vertical-card_content--copy\">\n",
      "<p>\n",
      "                    Inducted 2013                  </p>\n",
      "</div>\n",
      "<div class=\"fbyf-btn-wrapper inline-text\">\n",
      "<a href=\"https://countrymusichalloffame.org/artist/bobby-bare/\">\n",
      "<span>Learn More</span>\n",
      "<svg height=\"15px\" version=\"1.1\" viewbox=\"0 0 15 15\" width=\"15px\" xmlns=\"http://www.w3.org/2000/svg\" xmlns:xlink=\"http://www.w3.org/1999/xlink\">\n",
      "<g fill=\"none\" fill-rule=\"evenodd\" id=\"Symbols\" stroke=\"none\" stroke-width=\"1\">\n",
      "<g id=\"Icon/CMHOF/arrow-right\">\n",
      "<rect height=\"15\" id=\"Rectangle\" width=\"15\" x=\"0\" y=\"0\"></rect>\n",
      "<polygon fill=\"#F0B23A\" id=\"Fill-1\" points=\"8.59732882 13.03125 8.59732882 9.79762459 2 9.79762459 2 4.25168919 8.59732882 4.25168919 8.59732882 1 13.96875 7.01562616\"></polygon>\n",
      "</g>\n",
      "</g>\n",
      "</svg>\n",
      "</a>\n",
      "</div>\n",
      "</div>, <div class=\"vertical-card_content\">\n",
      "<div class=\"vertical-card_content--title\">\n",
      "<h3>Eddie Bayers</h3>\n",
      "</div>\n",
      "<div class=\"vertical-card_content--copy\">\n",
      "<p>\n",
      "                    Inducted 2022                  </p>\n",
      "</div>\n",
      "<div class=\"fbyf-btn-wrapper inline-text\">\n",
      "<a href=\"https://countrymusichalloffame.org/artist/eddie-bayers/\">\n",
      "<span>Learn More</span>\n",
      "<svg height=\"15px\" version=\"1.1\" viewbox=\"0 0 15 15\" width=\"15px\" xmlns=\"http://www.w3.org/2000/svg\" xmlns:xlink=\"http://www.w3.org/1999/xlink\">\n",
      "<g fill=\"none\" fill-rule=\"evenodd\" id=\"Symbols\" stroke=\"none\" stroke-width=\"1\">\n",
      "<g id=\"Icon/CMHOF/arrow-right\">\n",
      "<rect height=\"15\" id=\"Rectangle\" width=\"15\" x=\"0\" y=\"0\"></rect>\n",
      "<polygon fill=\"#F0B23A\" id=\"Fill-1\" points=\"8.59732882 13.03125 8.59732882 9.79762459 2 9.79762459 2 4.25168919 8.59732882 4.25168919 8.59732882 1 13.96875 7.01562616\"></polygon>\n",
      "</g>\n",
      "</g>\n",
      "</svg>\n",
      "</a>\n",
      "</div>\n",
      "</div>]\n"
     ]
    }
   ],
   "source": [
    "print(cards)"
   ]
  },
  {
   "cell_type": "code",
   "execution_count": 7,
   "id": "a4a2249e",
   "metadata": {},
   "outputs": [],
   "source": [
    "#https://www.geeksforgeeks.org/difference-between-find-and-find_all-in-beautifulsoup-python/\n",
    "#https://www.adamsmith.haus/python/answers/how-to-build-a-pandas-dataframe-with-a-for-loop-in-python\n",
    "inductees = []\n",
    "for card in cards:\n",
    "    inductees.append(str(card.find('h3')))\n",
    "\n",
    "# inductees = soup.findAll('h3')\n",
    "# print(type(inductees))\n",
    "# inductees"
   ]
  },
  {
   "cell_type": "code",
   "execution_count": 8,
   "id": "db5fd7f4",
   "metadata": {},
   "outputs": [
    {
     "data": {
      "text/plain": [
       "['<h3>Roy Acuff</h3>',\n",
       " '<h3>Alabama</h3>',\n",
       " '<h3>Bill Anderson</h3>',\n",
       " '<h3>Eddy Arnold</h3>',\n",
       " '<h3>Chet Atkins</h3>',\n",
       " '<h3>Gene Autry</h3>',\n",
       " '<h3>DeFord Bailey</h3>',\n",
       " '<h3>Bobby Bare</h3>',\n",
       " '<h3>Eddie Bayers</h3>']"
      ]
     },
     "execution_count": 8,
     "metadata": {},
     "output_type": "execute_result"
    }
   ],
   "source": [
    "inductees"
   ]
  },
  {
   "cell_type": "code",
   "execution_count": 9,
   "id": "ad232066",
   "metadata": {},
   "outputs": [
    {
     "data": {
      "text/plain": [
       "['Roy Acuff',\n",
       " 'Alabama',\n",
       " 'Bill Anderson',\n",
       " 'Eddy Arnold',\n",
       " 'Chet Atkins',\n",
       " 'Gene Autry',\n",
       " 'DeFord Bailey',\n",
       " 'Bobby Bare',\n",
       " 'Eddie Bayers']"
      ]
     },
     "execution_count": 9,
     "metadata": {},
     "output_type": "execute_result"
    }
   ],
   "source": [
    "#https://stackoverflow.com/questions/1249388/removing-all-non-numeric-characters-from-string-in-python\n",
    "#https://www.codegrepper.com/code-examples/html/regex+to+remove+html+tags+python\n",
    "inductees = [re.sub('<.*?>', '', x) for x in inductees]\n",
    "inductees"
   ]
  },
  {
   "cell_type": "code",
   "execution_count": 10,
   "id": "145e3506",
   "metadata": {},
   "outputs": [],
   "source": [
    "# the error I got when I ran this makes me think the above ResultSet is already a list\n",
    "# (\"You're probably treating a list of elements like a single element.\")\n",
    "# inductees = inductees.to_list()"
   ]
  },
  {
   "cell_type": "code",
   "execution_count": 11,
   "id": "905fb18f",
   "metadata": {},
   "outputs": [],
   "source": [
    "# # I'm not sure this is necessary ?\n",
    "\n",
    "# # https://www.geeksforgeeks.org/beautifulsoup-scraping-list-from-html/\n",
    "# # Iterate through all h3 tags\n",
    "# inductee_list = []\n",
    "# for data in inductees:\n",
    "#     # Get text from each tag\n",
    "#     print(data.text)"
   ]
  },
  {
   "cell_type": "markdown",
   "id": "f3bfa649",
   "metadata": {},
   "source": [
    "## 2. Next, try and find a tag that could be used to find the year that each member was inducted. Extract these into a list. When you do this, be sure to only include the year and not the full text. For example, for Roy Acuff, the list entry should be \"1962\" and not \"Inducted 1962\". Double-check that the resulting list has the correct number of elements and is in the same order as your inductees list."
   ]
  },
  {
   "cell_type": "code",
   "execution_count": 12,
   "id": "ac88d397",
   "metadata": {},
   "outputs": [
    {
     "data": {
      "text/plain": [
       "['<p>\\n                    Inducted 1962                  </p>',\n",
       " '<p>\\n                    Inducted 2005                  </p>',\n",
       " '<p>\\n                    Inducted 2001                  </p>',\n",
       " '<p>\\n                    Inducted 1966                  </p>',\n",
       " '<p>\\n                    Inducted 1973                  </p>',\n",
       " '<p>\\n                    Inducted 1969                  </p>',\n",
       " '<p>\\n                    Inducted 2005                  </p>',\n",
       " '<p>\\n                    Inducted 2013                  </p>',\n",
       " '<p>\\n                    Inducted 2022                  </p>']"
      ]
     },
     "execution_count": 12,
     "metadata": {},
     "output_type": "execute_result"
    }
   ],
   "source": [
    "year_inducted = []\n",
    "for card in cards:\n",
    "    year_inducted.append(str(card.find('p')))\n",
    "\n",
    "year_inducted"
   ]
  },
  {
   "cell_type": "code",
   "execution_count": 13,
   "id": "c91a8bf7",
   "metadata": {},
   "outputs": [
    {
     "data": {
      "text/plain": [
       "['1962', '2005', '2001', '1966', '1973', '1969', '2005', '2013', '2022']"
      ]
     },
     "execution_count": 13,
     "metadata": {},
     "output_type": "execute_result"
    }
   ],
   "source": [
    "#https://stackoverflow.com/questions/1249388/removing-all-non-numeric-characters-from-string-in-python\n",
    "year_inducted = [re.sub(\"[^0-9]\", \"\", x) for x in year_inducted]\n",
    "year_inducted"
   ]
  },
  {
   "cell_type": "markdown",
   "id": "281e96c7",
   "metadata": {},
   "source": [
    "## 3. Take the two lists you created on parts 1 and 2 and convert it into a pandas DataFrame."
   ]
  },
  {
   "cell_type": "code",
   "execution_count": 14,
   "id": "37eb9b32",
   "metadata": {},
   "outputs": [
    {
     "data": {
      "text/html": [
       "<div>\n",
       "<style scoped>\n",
       "    .dataframe tbody tr th:only-of-type {\n",
       "        vertical-align: middle;\n",
       "    }\n",
       "\n",
       "    .dataframe tbody tr th {\n",
       "        vertical-align: top;\n",
       "    }\n",
       "\n",
       "    .dataframe thead th {\n",
       "        text-align: right;\n",
       "    }\n",
       "</style>\n",
       "<table border=\"1\" class=\"dataframe\">\n",
       "  <thead>\n",
       "    <tr style=\"text-align: right;\">\n",
       "      <th></th>\n",
       "      <th>artist</th>\n",
       "      <th>year_inducted</th>\n",
       "    </tr>\n",
       "  </thead>\n",
       "  <tbody>\n",
       "    <tr>\n",
       "      <th>0</th>\n",
       "      <td>Roy Acuff</td>\n",
       "      <td>1962</td>\n",
       "    </tr>\n",
       "    <tr>\n",
       "      <th>1</th>\n",
       "      <td>Alabama</td>\n",
       "      <td>2005</td>\n",
       "    </tr>\n",
       "    <tr>\n",
       "      <th>2</th>\n",
       "      <td>Bill Anderson</td>\n",
       "      <td>2001</td>\n",
       "    </tr>\n",
       "    <tr>\n",
       "      <th>3</th>\n",
       "      <td>Eddy Arnold</td>\n",
       "      <td>1966</td>\n",
       "    </tr>\n",
       "    <tr>\n",
       "      <th>4</th>\n",
       "      <td>Chet Atkins</td>\n",
       "      <td>1973</td>\n",
       "    </tr>\n",
       "    <tr>\n",
       "      <th>5</th>\n",
       "      <td>Gene Autry</td>\n",
       "      <td>1969</td>\n",
       "    </tr>\n",
       "    <tr>\n",
       "      <th>6</th>\n",
       "      <td>DeFord Bailey</td>\n",
       "      <td>2005</td>\n",
       "    </tr>\n",
       "    <tr>\n",
       "      <th>7</th>\n",
       "      <td>Bobby Bare</td>\n",
       "      <td>2013</td>\n",
       "    </tr>\n",
       "    <tr>\n",
       "      <th>8</th>\n",
       "      <td>Eddie Bayers</td>\n",
       "      <td>2022</td>\n",
       "    </tr>\n",
       "  </tbody>\n",
       "</table>\n",
       "</div>"
      ],
      "text/plain": [
       "          artist year_inducted\n",
       "0      Roy Acuff          1962\n",
       "1        Alabama          2005\n",
       "2  Bill Anderson          2001\n",
       "3    Eddy Arnold          1966\n",
       "4    Chet Atkins          1973\n",
       "5     Gene Autry          1969\n",
       "6  DeFord Bailey          2005\n",
       "7     Bobby Bare          2013\n",
       "8   Eddie Bayers          2022"
      ]
     },
     "execution_count": 14,
     "metadata": {},
     "output_type": "execute_result"
    }
   ],
   "source": [
    "#https://cmdlinetips.com/2018/01/how-to-create-pandas-dataframe-from-multiple-lists/\n",
    "inductees_and_dates = {'artist':inductees, 'year_inducted':year_inducted}\n",
    "inductees_and_dates = pd.DataFrame(inductees_and_dates)\n",
    "inductees_and_dates.head(10)"
   ]
  },
  {
   "cell_type": "code",
   "execution_count": 15,
   "id": "ef1e06f1",
   "metadata": {},
   "outputs": [
    {
     "name": "stdout",
     "output_type": "stream",
     "text": [
      "<class 'pandas.core.frame.DataFrame'>\n",
      "RangeIndex: 9 entries, 0 to 8\n",
      "Data columns (total 2 columns):\n",
      " #   Column         Non-Null Count  Dtype \n",
      "---  ------         --------------  ----- \n",
      " 0   artist         9 non-null      object\n",
      " 1   year_inducted  9 non-null      object\n",
      "dtypes: object(2)\n",
      "memory usage: 272.0+ bytes\n"
     ]
    }
   ],
   "source": [
    "inductees_and_dates.info()"
   ]
  }
 ],
 "metadata": {
  "kernelspec": {
   "display_name": "Python 3 (ipykernel)",
   "language": "python",
   "name": "python3"
  },
  "language_info": {
   "codemirror_mode": {
    "name": "ipython",
    "version": 3
   },
   "file_extension": ".py",
   "mimetype": "text/x-python",
   "name": "python",
   "nbconvert_exporter": "python",
   "pygments_lexer": "ipython3",
   "version": "3.9.7"
  }
 },
 "nbformat": 4,
 "nbformat_minor": 5
}
