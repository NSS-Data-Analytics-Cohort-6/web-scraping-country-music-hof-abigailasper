{
 "cells": [
  {
   "cell_type": "code",
   "execution_count": 4,
   "id": "6d0f96cb",
   "metadata": {},
   "outputs": [],
   "source": [
    "import requests\n",
    "from bs4 import BeautifulSoup as BS"
   ]
  },
  {
   "cell_type": "code",
   "execution_count": 2,
   "id": "48dbaa4f",
   "metadata": {},
   "outputs": [],
   "source": [
    "URL = 'https://countrymusichalloffame.org/hall-of-fame/members/'\n",
    "\n",
    "response = requests.get(URL)"
   ]
  },
  {
   "cell_type": "code",
   "execution_count": 3,
   "id": "1329704e",
   "metadata": {},
   "outputs": [
    {
     "data": {
      "text/plain": [
       "200"
      ]
     },
     "execution_count": 3,
     "metadata": {},
     "output_type": "execute_result"
    }
   ],
   "source": [
    "response.status_code"
   ]
  },
  {
   "cell_type": "code",
   "execution_count": 5,
   "id": "95b128aa",
   "metadata": {},
   "outputs": [
    {
     "data": {
      "text/plain": [
       "bs4.BeautifulSoup"
      ]
     },
     "execution_count": 5,
     "metadata": {},
     "output_type": "execute_result"
    }
   ],
   "source": [
    "soup = BS(response.text)\n",
    "type(soup)"
   ]
  },
  {
   "cell_type": "markdown",
   "id": "6d3b9a0b",
   "metadata": {},
   "source": [
    "## 1. Start by using either the inspector or by viewing the page source. Can you identify a tag that might be helpful for finding the names of all inductees? Make use of this to create a list containing just the names of each inductee."
   ]
  },
  {
   "cell_type": "code",
   "execution_count": 9,
   "id": "3bc8e70e",
   "metadata": {},
   "outputs": [
    {
     "name": "stdout",
     "output_type": "stream",
     "text": [
      "<class 'bs4.element.ResultSet'>\n"
     ]
    },
    {
     "data": {
      "text/plain": [
       "[]"
      ]
     },
     "execution_count": 9,
     "metadata": {},
     "output_type": "execute_result"
    }
   ],
   "source": [
    "inductee_cards = soup.findAll('div class = vertical-card')\n",
    "print(type(inductee_cards))\n",
    "inductee_cards"
   ]
  },
  {
   "cell_type": "code",
   "execution_count": 7,
   "id": "6d39f8a3",
   "metadata": {},
   "outputs": [],
   "source": [
    "inductees = [x.get('h3') for x in inductee_cards]"
   ]
  },
  {
   "cell_type": "code",
   "execution_count": 10,
   "id": "fc2aeb31",
   "metadata": {},
   "outputs": [
    {
     "name": "stdout",
     "output_type": "stream",
     "text": [
      "<class 'bs4.element.ResultSet'>\n"
     ]
    },
    {
     "data": {
      "text/plain": [
       "[<h3>Roy Acuff</h3>,\n",
       " <h3>Alabama</h3>,\n",
       " <h3>Bill Anderson</h3>,\n",
       " <h3>Eddy Arnold</h3>,\n",
       " <h3>Chet Atkins</h3>,\n",
       " <h3>Gene Autry</h3>,\n",
       " <h3>DeFord Bailey</h3>,\n",
       " <h3>Bobby Bare</h3>,\n",
       " <h3>Eddie Bayers</h3>]"
      ]
     },
     "execution_count": 10,
     "metadata": {},
     "output_type": "execute_result"
    }
   ],
   "source": [
    "inductees = soup.findAll('h3')\n",
    "print(type(inductees))\n",
    "inductees"
   ]
  },
  {
   "cell_type": "code",
   "execution_count": 11,
   "id": "eeb57f2f",
   "metadata": {},
   "outputs": [
    {
     "name": "stdout",
     "output_type": "stream",
     "text": [
      "Roy Acuff\n",
      "Alabama\n",
      "Bill Anderson\n",
      "Eddy Arnold\n",
      "Chet Atkins\n",
      "Gene Autry\n",
      "DeFord Bailey\n",
      "Bobby Bare\n",
      "Eddie Bayers\n"
     ]
    }
   ],
   "source": [
    "# https://www.geeksforgeeks.org/beautifulsoup-scraping-list-from-html/\n",
    "# Iterate through all h3 tags\n",
    "for data in inductees:\n",
    "    # Get text from each tag\n",
    "    print(data.text)"
   ]
  }
 ],
 "metadata": {
  "kernelspec": {
   "display_name": "Python 3 (ipykernel)",
   "language": "python",
   "name": "python3"
  },
  "language_info": {
   "codemirror_mode": {
    "name": "ipython",
    "version": 3
   },
   "file_extension": ".py",
   "mimetype": "text/x-python",
   "name": "python",
   "nbconvert_exporter": "python",
   "pygments_lexer": "ipython3",
   "version": "3.9.7"
  }
 },
 "nbformat": 4,
 "nbformat_minor": 5
}
